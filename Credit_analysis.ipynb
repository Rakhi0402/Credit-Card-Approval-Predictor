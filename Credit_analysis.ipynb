{
  "nbformat": 4,
  "nbformat_minor": 0,
  "metadata": {
    "colab": {
      "provenance": [],
      "authorship_tag": "ABX9TyPj2Gv22QlspylnzQRXbhtO",
      "include_colab_link": true
    },
    "kernelspec": {
      "name": "python3",
      "display_name": "Python 3"
    },
    "language_info": {
      "name": "python"
    }
  },
  "cells": [
    {
      "cell_type": "markdown",
      "metadata": {
        "id": "view-in-github",
        "colab_type": "text"
      },
      "source": [
        "<a href=\"https://colab.research.google.com/github/Rakhi0402/Credit-Card-Approval-Predictor/blob/main/Credit_analysis.ipynb\" target=\"_parent\"><img src=\"https://colab.research.google.com/assets/colab-badge.svg\" alt=\"Open In Colab\"/></a>"
      ]
    },
    {
      "cell_type": "code",
      "execution_count": 3,
      "metadata": {
        "id": "BjjxBvMjSL8u"
      },
      "outputs": [],
      "source": [
        "import numpy as np\n",
        "import pandas as pd\n",
        "import os\n",
        "for dirname, _, filenames in os.walk('application_record.csv'):\n",
        "    for filename in filenames:\n",
        "        print(os.path.join(dirname, filename))"
      ]
    },
    {
      "cell_type": "code",
      "source": [
        "import matplotlib.pyplot as plt\n",
        "import seaborn as sns\n",
        "from sklearn.preprocessing import LabelEncoder"
      ],
      "metadata": {
        "id": "pJ4bniOQUxS3"
      },
      "execution_count": 10,
      "outputs": []
    },
    {
      "cell_type": "code",
      "source": [
        "df= pd.read_csv('application_record.csv')\n",
        "df.info()"
      ],
      "metadata": {
        "colab": {
          "base_uri": "https://localhost:8080/"
        },
        "id": "h9n0UqHMUFVE",
        "outputId": "29c3ccf4-b7a9-4a19-f986-364f227acd34"
      },
      "execution_count": 5,
      "outputs": [
        {
          "output_type": "stream",
          "name": "stdout",
          "text": [
            "<class 'pandas.core.frame.DataFrame'>\n",
            "RangeIndex: 313062 entries, 0 to 313061\n",
            "Data columns (total 18 columns):\n",
            " #   Column               Non-Null Count   Dtype  \n",
            "---  ------               --------------   -----  \n",
            " 0   ID                   313062 non-null  int64  \n",
            " 1   CODE_GENDER          313062 non-null  object \n",
            " 2   FLAG_OWN_CAR         313062 non-null  object \n",
            " 3   FLAG_OWN_REALTY      313062 non-null  object \n",
            " 4   CNT_CHILDREN         313062 non-null  int64  \n",
            " 5   AMT_INCOME_TOTAL     313062 non-null  float64\n",
            " 6   NAME_INCOME_TYPE     313062 non-null  object \n",
            " 7   NAME_EDUCATION_TYPE  313062 non-null  object \n",
            " 8   NAME_FAMILY_STATUS   313061 non-null  object \n",
            " 9   NAME_HOUSING_TYPE    313061 non-null  object \n",
            " 10  DAYS_BIRTH           313061 non-null  float64\n",
            " 11  DAYS_EMPLOYED        313061 non-null  float64\n",
            " 12  FLAG_MOBIL           313061 non-null  float64\n",
            " 13  FLAG_WORK_PHONE      313061 non-null  float64\n",
            " 14  FLAG_PHONE           313061 non-null  float64\n",
            " 15  FLAG_EMAIL           313061 non-null  float64\n",
            " 16  OCCUPATION_TYPE      217460 non-null  object \n",
            " 17  CNT_FAM_MEMBERS      313061 non-null  float64\n",
            "dtypes: float64(8), int64(2), object(8)\n",
            "memory usage: 43.0+ MB\n"
          ]
        }
      ]
    },
    {
      "cell_type": "code",
      "source": [
        "df.isnull().sum()"
      ],
      "metadata": {
        "colab": {
          "base_uri": "https://localhost:8080/",
          "height": 649
        },
        "id": "LQiekzLhUOsh",
        "outputId": "e7653c1e-0a42-40a4-b23a-de485d84f351"
      },
      "execution_count": 7,
      "outputs": [
        {
          "output_type": "execute_result",
          "data": {
            "text/plain": [
              "ID                         0\n",
              "CODE_GENDER                0\n",
              "FLAG_OWN_CAR               0\n",
              "FLAG_OWN_REALTY            0\n",
              "CNT_CHILDREN               0\n",
              "AMT_INCOME_TOTAL           0\n",
              "NAME_INCOME_TYPE           0\n",
              "NAME_EDUCATION_TYPE        0\n",
              "NAME_FAMILY_STATUS         1\n",
              "NAME_HOUSING_TYPE          1\n",
              "DAYS_BIRTH                 1\n",
              "DAYS_EMPLOYED              1\n",
              "FLAG_MOBIL                 1\n",
              "FLAG_WORK_PHONE            1\n",
              "FLAG_PHONE                 1\n",
              "FLAG_EMAIL                 1\n",
              "OCCUPATION_TYPE        95602\n",
              "CNT_FAM_MEMBERS            1\n",
              "dtype: int64"
            ],
            "text/html": [
              "<div>\n",
              "<style scoped>\n",
              "    .dataframe tbody tr th:only-of-type {\n",
              "        vertical-align: middle;\n",
              "    }\n",
              "\n",
              "    .dataframe tbody tr th {\n",
              "        vertical-align: top;\n",
              "    }\n",
              "\n",
              "    .dataframe thead th {\n",
              "        text-align: right;\n",
              "    }\n",
              "</style>\n",
              "<table border=\"1\" class=\"dataframe\">\n",
              "  <thead>\n",
              "    <tr style=\"text-align: right;\">\n",
              "      <th></th>\n",
              "      <th>0</th>\n",
              "    </tr>\n",
              "  </thead>\n",
              "  <tbody>\n",
              "    <tr>\n",
              "      <th>ID</th>\n",
              "      <td>0</td>\n",
              "    </tr>\n",
              "    <tr>\n",
              "      <th>CODE_GENDER</th>\n",
              "      <td>0</td>\n",
              "    </tr>\n",
              "    <tr>\n",
              "      <th>FLAG_OWN_CAR</th>\n",
              "      <td>0</td>\n",
              "    </tr>\n",
              "    <tr>\n",
              "      <th>FLAG_OWN_REALTY</th>\n",
              "      <td>0</td>\n",
              "    </tr>\n",
              "    <tr>\n",
              "      <th>CNT_CHILDREN</th>\n",
              "      <td>0</td>\n",
              "    </tr>\n",
              "    <tr>\n",
              "      <th>AMT_INCOME_TOTAL</th>\n",
              "      <td>0</td>\n",
              "    </tr>\n",
              "    <tr>\n",
              "      <th>NAME_INCOME_TYPE</th>\n",
              "      <td>0</td>\n",
              "    </tr>\n",
              "    <tr>\n",
              "      <th>NAME_EDUCATION_TYPE</th>\n",
              "      <td>0</td>\n",
              "    </tr>\n",
              "    <tr>\n",
              "      <th>NAME_FAMILY_STATUS</th>\n",
              "      <td>1</td>\n",
              "    </tr>\n",
              "    <tr>\n",
              "      <th>NAME_HOUSING_TYPE</th>\n",
              "      <td>1</td>\n",
              "    </tr>\n",
              "    <tr>\n",
              "      <th>DAYS_BIRTH</th>\n",
              "      <td>1</td>\n",
              "    </tr>\n",
              "    <tr>\n",
              "      <th>DAYS_EMPLOYED</th>\n",
              "      <td>1</td>\n",
              "    </tr>\n",
              "    <tr>\n",
              "      <th>FLAG_MOBIL</th>\n",
              "      <td>1</td>\n",
              "    </tr>\n",
              "    <tr>\n",
              "      <th>FLAG_WORK_PHONE</th>\n",
              "      <td>1</td>\n",
              "    </tr>\n",
              "    <tr>\n",
              "      <th>FLAG_PHONE</th>\n",
              "      <td>1</td>\n",
              "    </tr>\n",
              "    <tr>\n",
              "      <th>FLAG_EMAIL</th>\n",
              "      <td>1</td>\n",
              "    </tr>\n",
              "    <tr>\n",
              "      <th>OCCUPATION_TYPE</th>\n",
              "      <td>95602</td>\n",
              "    </tr>\n",
              "    <tr>\n",
              "      <th>CNT_FAM_MEMBERS</th>\n",
              "      <td>1</td>\n",
              "    </tr>\n",
              "  </tbody>\n",
              "</table>\n",
              "</div><br><label><b>dtype:</b> int64</label>"
            ]
          },
          "metadata": {},
          "execution_count": 7
        }
      ]
    },
    {
      "cell_type": "code",
      "source": [
        " #For 'OCCUPATION_TYPE', impute missing values with 'Unknown'\n",
        "df['OCCUPATION_TYPE'] = df['OCCUPATION_TYPE'].fillna('Unknown')"
      ],
      "metadata": {
        "id": "6Z47_utrU3gx"
      },
      "execution_count": 9,
      "outputs": []
    },
    {
      "cell_type": "code",
      "source": [
        "label_encoder = LabelEncoder()\n",
        "df['CODE_GENDER'] = label_encoder.fit_transform(df['CODE_GENDER'])\n",
        "df['FLAG_OWN_CAR'] = label_encoder.fit_transform(df['FLAG_OWN_CAR'])\n",
        "df['FLAG_OWN_REALTY'] = label_encoder.fit_transform(df['FLAG_OWN_REALTY'])\n",
        "df['NAME_INCOME_TYPE'] = label_encoder.fit_transform(df['NAME_INCOME_TYPE'])\n",
        "df['NAME_EDUCATION_TYPE'] = label_encoder.fit_transform(df['NAME_EDUCATION_TYPE'])\n",
        "df['NAME_FAMILY_STATUS'] = label_encoder.fit_transform(df['NAME_FAMILY_STATUS'])\n",
        "df['OCCUPATION_TYPE'] = label_encoder.fit_transform(df['OCCUPATION_TYPE'])\n",
        "df['NAME_HOUSING_TYPE'] = label_encoder.fit_transform(df['NAME_HOUSING_TYPE'])"
      ],
      "metadata": {
        "id": "6kkul3Y1VAZq"
      },
      "execution_count": 11,
      "outputs": []
    },
    {
      "source": [
        "import warnings\n",
        "warnings.filterwarnings(\"ignore\", category=UserWarning)  # Suppress warnings\n",
        "\n",
        "import pandas as pd\n",
        "from sklearn.model_selection import train_test_split\n",
        "from sklearn.linear_model import SGDClassifier\n",
        "from sklearn.metrics import accuracy_score, confusion_matrix, classification_report\n",
        "from sklearn.impute import SimpleImputer\n",
        "import matplotlib.pyplot as plt\n",
        "import numpy as np\n",
        "\n",
        "# Assume df is already loaded\n",
        "\n",
        "# Calculate age\n",
        "df['AGE'] = abs(df['DAYS_BIRTH']) // 365  # Convert days to years\n",
        "\n",
        "# Define approval status based on given criteria\n",
        "df['APPROVAL_STATUS'] = (\n",
        "    (df['AMT_INCOME_TOTAL'] >= 30000) &\n",
        "    (df['DAYS_EMPLOYED'] >= 180) &\n",
        "    (df['CNT_FAM_MEMBERS'] <= 4) &\n",
        "    (df['AGE'] >= 18) &\n",
        "    (df['AGE'] <= 60) &\n",
        "    (df['FLAG_OWN_CAR'] == 1) &\n",
        "    (df['FLAG_OWN_REALTY'] == 1)\n",
        ").astype(int)\n",
        "\n",
        "# Define features and target variable\n",
        "X = df.drop(['APPROVAL_STATUS'], axis=1)\n",
        "y = df['APPROVAL_STATUS']\n",
        "X_train, X_test, y_train, y_test = train_test_split(X, y, test_size=0.30, random_state=42)\n",
        "\n",
        "# Impute missing values\n",
        "imputer = SimpleImputer(strategy='mean')\n",
        "X_train = imputer.fit_transform(X_train)\n",
        "X_test = imputer.transform(X_test)\n",
        "\n",
        "# Initialize SGDClassifier with better settings\n",
        "model = SGDClassifier(loss=\"log_loss\", max_iter=1, warm_start=True, eta0=0.001, learning_rate='optimal')\n",
        "\n",
        "# Train for 20 epochs\n",
        "train_accuracies = []\n",
        "test_accuracies = []\n",
        "epochs = 20\n",
        "\n",
        "for epoch in range(epochs):\n",
        "    model.fit(X_train, y_train)  # Incremental training\n",
        "    y_train_pred = model.predict(X_train)\n",
        "    y_test_pred = model.predict(X_test)\n",
        "\n",
        "    train_acc = accuracy_score(y_train, y_train_pred)\n",
        "    test_acc = accuracy_score(y_test, y_test_pred)\n",
        "\n",
        "    train_accuracies.append(train_acc)\n",
        "    test_accuracies.append(test_acc)\n",
        "\n",
        "    print(f\"Epoch {epoch + 1}: Train Accuracy = {train_acc * 100:.2f}%, Test Accuracy = {test_acc * 100:.2f}%\")\n",
        "\n",
        "# Final evaluation after all epochs\n",
        "final_train_acc = train_accuracies[-1]\n",
        "final_test_acc = test_accuracies[-1]\n",
        "\n",
        "print(f\"\\nFinal Training Accuracy: {final_train_acc * 100:.2f}%\")\n",
        "print(f\"Final Testing Accuracy: {final_test_acc * 100:.2f}%\")\n",
        "\n",
        "# Confusion matrix & classification report\n",
        "y_test_pred = model.predict(X_test)\n",
        "print(\"\\nFinal Confusion Matrix:\")\n",
        "print(confusion_matrix(y_test, y_test_pred))\n",
        "print(\"\\nFinal Classification Report:\")\n",
        "print(classification_report(y_test, y_test_pred))\n",
        "\n",
        "# Plot accuracy over epochs\n",
        "plt.figure(figsize=(8, 6))\n",
        "plt.plot(range(1, epochs + 1), train_accuracies, label='Train Accuracy', marker='o')\n",
        "plt.plot(range(1, epochs + 1), test_accuracies, label='Test Accuracy', marker='s')\n",
        "plt.xlabel('Epochs')\n",
        "plt.ylabel('Accuracy')\n",
        "plt.title('Training and Testing Accuracy Over Epochs')\n",
        "plt.legend()\n",
        "plt.grid()\n",
        "plt.show()\n"
      ],
      "cell_type": "code",
      "metadata": {
        "colab": {
          "base_uri": "https://localhost:8080/",
          "height": 1000
        },
        "id": "Vda5QfsIWqnk",
        "outputId": "ea35b4e9-299f-4a18-cdad-2819eb60fa3d"
      },
      "execution_count": 31,
      "outputs": [
        {
          "output_type": "stream",
          "name": "stdout",
          "text": [
            "Epoch 1: Train Accuracy = 98.45%, Test Accuracy = 98.51%\n",
            "Epoch 2: Train Accuracy = 98.45%, Test Accuracy = 98.51%\n",
            "Epoch 3: Train Accuracy = 98.45%, Test Accuracy = 98.51%\n",
            "Epoch 4: Train Accuracy = 98.45%, Test Accuracy = 98.51%\n",
            "Epoch 5: Train Accuracy = 98.45%, Test Accuracy = 98.51%\n",
            "Epoch 6: Train Accuracy = 93.48%, Test Accuracy = 93.53%\n",
            "Epoch 7: Train Accuracy = 98.44%, Test Accuracy = 98.51%\n",
            "Epoch 8: Train Accuracy = 98.44%, Test Accuracy = 98.51%\n",
            "Epoch 9: Train Accuracy = 98.45%, Test Accuracy = 98.51%\n",
            "Epoch 10: Train Accuracy = 98.44%, Test Accuracy = 98.50%\n",
            "Epoch 11: Train Accuracy = 98.44%, Test Accuracy = 98.51%\n",
            "Epoch 12: Train Accuracy = 98.45%, Test Accuracy = 98.51%\n",
            "Epoch 13: Train Accuracy = 98.44%, Test Accuracy = 98.51%\n",
            "Epoch 14: Train Accuracy = 98.24%, Test Accuracy = 98.26%\n",
            "Epoch 15: Train Accuracy = 98.44%, Test Accuracy = 98.51%\n",
            "Epoch 16: Train Accuracy = 98.12%, Test Accuracy = 98.14%\n",
            "Epoch 17: Train Accuracy = 98.44%, Test Accuracy = 98.51%\n",
            "Epoch 18: Train Accuracy = 98.45%, Test Accuracy = 98.51%\n",
            "Epoch 19: Train Accuracy = 98.44%, Test Accuracy = 98.51%\n",
            "Epoch 20: Train Accuracy = 98.45%, Test Accuracy = 98.51%\n",
            "\n",
            "Final Training Accuracy: 98.45%\n",
            "Final Testing Accuracy: 98.51%\n",
            "\n",
            "Final Confusion Matrix:\n",
            "[[92523     0]\n",
            " [ 1396     0]]\n",
            "\n",
            "Final Classification Report:\n",
            "              precision    recall  f1-score   support\n",
            "\n",
            "           0       0.99      1.00      0.99     92523\n",
            "           1       0.00      0.00      0.00      1396\n",
            "\n",
            "    accuracy                           0.99     93919\n",
            "   macro avg       0.49      0.50      0.50     93919\n",
            "weighted avg       0.97      0.99      0.98     93919\n",
            "\n"
          ]
        },
        {
          "output_type": "display_data",
          "data": {
            "text/plain": [
              "<Figure size 800x600 with 1 Axes>"
            ],
            "image/png": "[encoded data removed]"
          },
          "metadata": {}
        }
      ]
    }
  ]
}